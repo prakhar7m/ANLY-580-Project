{
 "cells": [
  {
   "cell_type": "code",
   "execution_count": 5,
   "metadata": {},
   "outputs": [
    {
     "name": "stdout",
     "output_type": "stream",
     "text": [
      "Collecting textblob\n",
      "  Downloading textblob-0.17.1-py2.py3-none-any.whl (636 kB)\n",
      "     -------------------------------------- 636.8/636.8 kB 5.0 MB/s eta 0:00:00\n",
      "Requirement already satisfied: nltk>=3.1 in c:\\users\\vinay\\anaconda3\\lib\\site-packages (from textblob) (3.6.5)\n",
      "Requirement already satisfied: click in c:\\users\\vinay\\anaconda3\\lib\\site-packages (from nltk>=3.1->textblob) (8.0.3)\n",
      "Requirement already satisfied: joblib in c:\\users\\vinay\\anaconda3\\lib\\site-packages (from nltk>=3.1->textblob) (1.1.0)\n",
      "Requirement already satisfied: regex>=2021.8.3 in c:\\users\\vinay\\anaconda3\\lib\\site-packages (from nltk>=3.1->textblob) (2021.8.3)\n",
      "Requirement already satisfied: tqdm in c:\\users\\vinay\\anaconda3\\lib\\site-packages (from nltk>=3.1->textblob) (4.64.1)\n",
      "Requirement already satisfied: colorama in c:\\users\\vinay\\anaconda3\\lib\\site-packages (from click->nltk>=3.1->textblob) (0.4.4)\n",
      "Installing collected packages: textblob\n",
      "Successfully installed textblob-0.17.1\n",
      "Note: you may need to restart the kernel to use updated packages.\n"
     ]
    },
    {
     "name": "stderr",
     "output_type": "stream",
     "text": [
      "\n",
      "[notice] A new release of pip available: 22.2.2 -> 22.3.1\n",
      "[notice] To update, run: python.exe -m pip install --upgrade pip\n"
     ]
    }
   ],
   "source": [
    "#pip install textblob"
   ]
  },
  {
   "cell_type": "code",
   "execution_count": 1,
   "metadata": {},
   "outputs": [],
   "source": [
    "import numpy as np \n",
    "import pandas as pd \n",
    "import matplotlib.pyplot as plt\n",
    "import seaborn as sns"
   ]
  },
  {
   "cell_type": "code",
   "execution_count": 2,
   "metadata": {},
   "outputs": [
    {
     "data": {
      "text/html": [
       "<div>\n",
       "<style scoped>\n",
       "    .dataframe tbody tr th:only-of-type {\n",
       "        vertical-align: middle;\n",
       "    }\n",
       "\n",
       "    .dataframe tbody tr th {\n",
       "        vertical-align: top;\n",
       "    }\n",
       "\n",
       "    .dataframe thead th {\n",
       "        text-align: right;\n",
       "    }\n",
       "</style>\n",
       "<table border=\"1\" class=\"dataframe\">\n",
       "  <thead>\n",
       "    <tr style=\"text-align: right;\">\n",
       "      <th></th>\n",
       "      <th>Tweets</th>\n",
       "      <th>Retweets</th>\n",
       "      <th>Likes</th>\n",
       "      <th>Date</th>\n",
       "    </tr>\n",
       "  </thead>\n",
       "  <tbody>\n",
       "    <tr>\n",
       "      <th>0</th>\n",
       "      <td>@PeterSchiff 🤣 thanks</td>\n",
       "      <td>209</td>\n",
       "      <td>7021</td>\n",
       "      <td>2022-10-27 16:17:39</td>\n",
       "    </tr>\n",
       "    <tr>\n",
       "      <th>1</th>\n",
       "      <td>@ZubyMusic Absolutely</td>\n",
       "      <td>755</td>\n",
       "      <td>26737</td>\n",
       "      <td>2022-10-27 13:19:25</td>\n",
       "    </tr>\n",
       "    <tr>\n",
       "      <th>2</th>\n",
       "      <td>Dear Twitter Advertisers https://t.co/GMwHmInPAS</td>\n",
       "      <td>55927</td>\n",
       "      <td>356623</td>\n",
       "      <td>2022-10-27 13:08:00</td>\n",
       "    </tr>\n",
       "    <tr>\n",
       "      <th>3</th>\n",
       "      <td>@BillyM2k 👻</td>\n",
       "      <td>802</td>\n",
       "      <td>19353</td>\n",
       "      <td>2022-10-27 02:32:48</td>\n",
       "    </tr>\n",
       "    <tr>\n",
       "      <th>4</th>\n",
       "      <td>Meeting a lot of cool people at Twitter today!</td>\n",
       "      <td>9366</td>\n",
       "      <td>195546</td>\n",
       "      <td>2022-10-26 21:39:32</td>\n",
       "    </tr>\n",
       "  </tbody>\n",
       "</table>\n",
       "</div>"
      ],
      "text/plain": [
       "                                             Tweets  Retweets   Likes  \\\n",
       "0                             @PeterSchiff 🤣 thanks       209    7021   \n",
       "1                             @ZubyMusic Absolutely       755   26737   \n",
       "2  Dear Twitter Advertisers https://t.co/GMwHmInPAS     55927  356623   \n",
       "3                                       @BillyM2k 👻       802   19353   \n",
       "4    Meeting a lot of cool people at Twitter today!      9366  195546   \n",
       "\n",
       "                  Date  \n",
       "0  2022-10-27 16:17:39  \n",
       "1  2022-10-27 13:19:25  \n",
       "2  2022-10-27 13:08:00  \n",
       "3  2022-10-27 02:32:48  \n",
       "4  2022-10-26 21:39:32  "
      ]
     },
     "execution_count": 2,
     "metadata": {},
     "output_type": "execute_result"
    }
   ],
   "source": [
    "raw_df = pd.read_csv(\"rawdata.csv\")\n",
    "raw_df.head()"
   ]
  },
  {
   "cell_type": "code",
   "execution_count": 3,
   "metadata": {},
   "outputs": [],
   "source": [
    "import re"
   ]
  },
  {
   "cell_type": "code",
   "execution_count": 4,
   "metadata": {},
   "outputs": [],
   "source": [
    "def tweet_cleaner(the_tweet):\n",
    "    ## remove hyperlinks\n",
    "    the_tweet = re.sub('https?:\\/\\/\\S+', '', the_tweet) \n",
    "    ## remove @mentions\n",
    "    the_tweet = re.sub('@[\\S]*', '', the_tweet) \n",
    "    #remove all 'RT's \n",
    "    the_tweet = re.sub('RT', '', the_tweet) \n",
    "    ## remove hashtags\n",
    "    the_tweet = re.sub('#[A-Za-z0-9]+', '', the_tweet) \n",
    "    ## remove '\\n' \n",
    "    the_tweet = re.sub('\\\\n', '', the_tweet) \n",
    "    # remove additional whitespaces\n",
    "    the_tweet = re.sub('^[\\s]+|[\\s]+$', '', the_tweet) \n",
    "    ## For emojis, compile a list of the characters \n",
    "    emojis = re.compile(\"[\"\n",
    "        u\"\\U0001F1E0-\\U0001F1FF\"  ## flag emojis\n",
    "        u\"\\U0001F600-\\U0001F64F\"  ## other emojis\n",
    "        u\"\\U0001F680-\\U0001F6FF\"  ## transport & map symbols\n",
    "        u\"\\U0001F300-\\U0001F5FF\"  ## symbols & pictographs\n",
    "        u\"\\U00002500-\\U00002BEF\"  ## chinese characters\n",
    "        u\"\\U00002702-\\U000027B0\"\n",
    "        u\"\\U000024C2-\\U0001F251\"\n",
    "        u\"\\U0001f926-\\U0001f937\"\n",
    "        u\"\\U00010000-\\U0010ffff\"\n",
    "        u\"\\u2640-\\u2642\" \n",
    "        u\"\\u2600-\\u2B55\"\n",
    "        u\"\\u200d\"\n",
    "        u\"\\u23cf\"\n",
    "        u\"\\u23e9\"\n",
    "        u\"\\u231a\"\n",
    "        u\"\\ufe0f\"  \n",
    "        u\"\\u3030\"\n",
    "                      \"]+\", re.UNICODE)\n",
    "    ## remove emojis\n",
    "    the_tweet = re.sub(emojis, '', the_tweet) \n",
    "    return the_tweet"
   ]
  },
  {
   "cell_type": "code",
   "execution_count": 5,
   "metadata": {},
   "outputs": [
    {
     "data": {
      "text/html": [
       "<div>\n",
       "<style scoped>\n",
       "    .dataframe tbody tr th:only-of-type {\n",
       "        vertical-align: middle;\n",
       "    }\n",
       "\n",
       "    .dataframe tbody tr th {\n",
       "        vertical-align: top;\n",
       "    }\n",
       "\n",
       "    .dataframe thead th {\n",
       "        text-align: right;\n",
       "    }\n",
       "</style>\n",
       "<table border=\"1\" class=\"dataframe\">\n",
       "  <thead>\n",
       "    <tr style=\"text-align: right;\">\n",
       "      <th></th>\n",
       "      <th>Tweets</th>\n",
       "      <th>Retweets</th>\n",
       "      <th>Likes</th>\n",
       "      <th>Date</th>\n",
       "      <th>tweets_cleaned</th>\n",
       "    </tr>\n",
       "  </thead>\n",
       "  <tbody>\n",
       "    <tr>\n",
       "      <th>0</th>\n",
       "      <td>@PeterSchiff 🤣 thanks</td>\n",
       "      <td>209</td>\n",
       "      <td>7021</td>\n",
       "      <td>2022-10-27 16:17:39</td>\n",
       "      <td>thanks</td>\n",
       "    </tr>\n",
       "    <tr>\n",
       "      <th>1</th>\n",
       "      <td>@ZubyMusic Absolutely</td>\n",
       "      <td>755</td>\n",
       "      <td>26737</td>\n",
       "      <td>2022-10-27 13:19:25</td>\n",
       "      <td>Absolutely</td>\n",
       "    </tr>\n",
       "    <tr>\n",
       "      <th>2</th>\n",
       "      <td>Dear Twitter Advertisers https://t.co/GMwHmInPAS</td>\n",
       "      <td>55927</td>\n",
       "      <td>356623</td>\n",
       "      <td>2022-10-27 13:08:00</td>\n",
       "      <td>Dear Twitter Advertisers</td>\n",
       "    </tr>\n",
       "    <tr>\n",
       "      <th>3</th>\n",
       "      <td>@BillyM2k 👻</td>\n",
       "      <td>802</td>\n",
       "      <td>19353</td>\n",
       "      <td>2022-10-27 02:32:48</td>\n",
       "      <td></td>\n",
       "    </tr>\n",
       "    <tr>\n",
       "      <th>4</th>\n",
       "      <td>Meeting a lot of cool people at Twitter today!</td>\n",
       "      <td>9366</td>\n",
       "      <td>195546</td>\n",
       "      <td>2022-10-26 21:39:32</td>\n",
       "      <td>Meeting a lot of cool people at Twitter today!</td>\n",
       "    </tr>\n",
       "  </tbody>\n",
       "</table>\n",
       "</div>"
      ],
      "text/plain": [
       "                                             Tweets  Retweets   Likes  \\\n",
       "0                             @PeterSchiff 🤣 thanks       209    7021   \n",
       "1                             @ZubyMusic Absolutely       755   26737   \n",
       "2  Dear Twitter Advertisers https://t.co/GMwHmInPAS     55927  356623   \n",
       "3                                       @BillyM2k 👻       802   19353   \n",
       "4    Meeting a lot of cool people at Twitter today!      9366  195546   \n",
       "\n",
       "                  Date                                  tweets_cleaned  \n",
       "0  2022-10-27 16:17:39                                          thanks  \n",
       "1  2022-10-27 13:19:25                                      Absolutely  \n",
       "2  2022-10-27 13:08:00                        Dear Twitter Advertisers  \n",
       "3  2022-10-27 02:32:48                                                  \n",
       "4  2022-10-26 21:39:32  Meeting a lot of cool people at Twitter today!  "
      ]
     },
     "execution_count": 5,
     "metadata": {},
     "output_type": "execute_result"
    }
   ],
   "source": [
    "raw_df[\"tweets_cleaned\"] = raw_df['Tweets'].apply(tweet_cleaner)\n",
    "raw_df.head()"
   ]
  },
  {
   "cell_type": "code",
   "execution_count": 6,
   "metadata": {},
   "outputs": [],
   "source": [
    "## lets remove rows with null values in cleaned tweets \n",
    "raw_df.drop(raw_df[raw_df['tweets_cleaned'] == ''].index, inplace = True)"
   ]
  },
  {
   "cell_type": "code",
   "execution_count": 7,
   "metadata": {},
   "outputs": [
    {
     "data": {
      "text/html": [
       "<div>\n",
       "<style scoped>\n",
       "    .dataframe tbody tr th:only-of-type {\n",
       "        vertical-align: middle;\n",
       "    }\n",
       "\n",
       "    .dataframe tbody tr th {\n",
       "        vertical-align: top;\n",
       "    }\n",
       "\n",
       "    .dataframe thead th {\n",
       "        text-align: right;\n",
       "    }\n",
       "</style>\n",
       "<table border=\"1\" class=\"dataframe\">\n",
       "  <thead>\n",
       "    <tr style=\"text-align: right;\">\n",
       "      <th></th>\n",
       "      <th>Tweets</th>\n",
       "      <th>Retweets</th>\n",
       "      <th>Likes</th>\n",
       "      <th>Date</th>\n",
       "      <th>tweets_cleaned</th>\n",
       "    </tr>\n",
       "  </thead>\n",
       "  <tbody>\n",
       "    <tr>\n",
       "      <th>0</th>\n",
       "      <td>@PeterSchiff 🤣 thanks</td>\n",
       "      <td>209</td>\n",
       "      <td>7021</td>\n",
       "      <td>2022-10-27 16:17:39</td>\n",
       "      <td>thanks</td>\n",
       "    </tr>\n",
       "    <tr>\n",
       "      <th>1</th>\n",
       "      <td>@ZubyMusic Absolutely</td>\n",
       "      <td>755</td>\n",
       "      <td>26737</td>\n",
       "      <td>2022-10-27 13:19:25</td>\n",
       "      <td>Absolutely</td>\n",
       "    </tr>\n",
       "    <tr>\n",
       "      <th>2</th>\n",
       "      <td>Dear Twitter Advertisers https://t.co/GMwHmInPAS</td>\n",
       "      <td>55927</td>\n",
       "      <td>356623</td>\n",
       "      <td>2022-10-27 13:08:00</td>\n",
       "      <td>Dear Twitter Advertisers</td>\n",
       "    </tr>\n",
       "    <tr>\n",
       "      <th>4</th>\n",
       "      <td>Meeting a lot of cool people at Twitter today!</td>\n",
       "      <td>9366</td>\n",
       "      <td>195546</td>\n",
       "      <td>2022-10-26 21:39:32</td>\n",
       "      <td>Meeting a lot of cool people at Twitter today!</td>\n",
       "    </tr>\n",
       "    <tr>\n",
       "      <th>5</th>\n",
       "      <td>Entering Twitter HQ – let that sink in! https:...</td>\n",
       "      <td>145520</td>\n",
       "      <td>1043592</td>\n",
       "      <td>2022-10-26 18:45:58</td>\n",
       "      <td>Entering Twitter HQ – let that sink in!</td>\n",
       "    </tr>\n",
       "  </tbody>\n",
       "</table>\n",
       "</div>"
      ],
      "text/plain": [
       "                                              Tweets  Retweets    Likes  \\\n",
       "0                              @PeterSchiff 🤣 thanks       209     7021   \n",
       "1                              @ZubyMusic Absolutely       755    26737   \n",
       "2   Dear Twitter Advertisers https://t.co/GMwHmInPAS     55927   356623   \n",
       "4     Meeting a lot of cool people at Twitter today!      9366   195546   \n",
       "5  Entering Twitter HQ – let that sink in! https:...    145520  1043592   \n",
       "\n",
       "                  Date                                  tweets_cleaned  \n",
       "0  2022-10-27 16:17:39                                          thanks  \n",
       "1  2022-10-27 13:19:25                                      Absolutely  \n",
       "2  2022-10-27 13:08:00                        Dear Twitter Advertisers  \n",
       "4  2022-10-26 21:39:32  Meeting a lot of cool people at Twitter today!  \n",
       "5  2022-10-26 18:45:58         Entering Twitter HQ – let that sink in!  "
      ]
     },
     "execution_count": 7,
     "metadata": {},
     "output_type": "execute_result"
    }
   ],
   "source": [
    "raw_df.head()"
   ]
  },
  {
   "cell_type": "code",
   "execution_count": 8,
   "metadata": {},
   "outputs": [
    {
     "data": {
      "text/html": [
       "<div>\n",
       "<style scoped>\n",
       "    .dataframe tbody tr th:only-of-type {\n",
       "        vertical-align: middle;\n",
       "    }\n",
       "\n",
       "    .dataframe tbody tr th {\n",
       "        vertical-align: top;\n",
       "    }\n",
       "\n",
       "    .dataframe thead th {\n",
       "        text-align: right;\n",
       "    }\n",
       "</style>\n",
       "<table border=\"1\" class=\"dataframe\">\n",
       "  <thead>\n",
       "    <tr style=\"text-align: right;\">\n",
       "      <th></th>\n",
       "      <th>Retweets</th>\n",
       "      <th>Likes</th>\n",
       "      <th>Date</th>\n",
       "      <th>tweets_cleaned</th>\n",
       "    </tr>\n",
       "  </thead>\n",
       "  <tbody>\n",
       "    <tr>\n",
       "      <th>0</th>\n",
       "      <td>209</td>\n",
       "      <td>7021</td>\n",
       "      <td>2022-10-27 16:17:39</td>\n",
       "      <td>thanks</td>\n",
       "    </tr>\n",
       "    <tr>\n",
       "      <th>1</th>\n",
       "      <td>755</td>\n",
       "      <td>26737</td>\n",
       "      <td>2022-10-27 13:19:25</td>\n",
       "      <td>Absolutely</td>\n",
       "    </tr>\n",
       "    <tr>\n",
       "      <th>2</th>\n",
       "      <td>55927</td>\n",
       "      <td>356623</td>\n",
       "      <td>2022-10-27 13:08:00</td>\n",
       "      <td>Dear Twitter Advertisers</td>\n",
       "    </tr>\n",
       "    <tr>\n",
       "      <th>4</th>\n",
       "      <td>9366</td>\n",
       "      <td>195546</td>\n",
       "      <td>2022-10-26 21:39:32</td>\n",
       "      <td>Meeting a lot of cool people at Twitter today!</td>\n",
       "    </tr>\n",
       "    <tr>\n",
       "      <th>5</th>\n",
       "      <td>145520</td>\n",
       "      <td>1043592</td>\n",
       "      <td>2022-10-26 18:45:58</td>\n",
       "      <td>Entering Twitter HQ – let that sink in!</td>\n",
       "    </tr>\n",
       "  </tbody>\n",
       "</table>\n",
       "</div>"
      ],
      "text/plain": [
       "   Retweets    Likes                 Date  \\\n",
       "0       209     7021  2022-10-27 16:17:39   \n",
       "1       755    26737  2022-10-27 13:19:25   \n",
       "2     55927   356623  2022-10-27 13:08:00   \n",
       "4      9366   195546  2022-10-26 21:39:32   \n",
       "5    145520  1043592  2022-10-26 18:45:58   \n",
       "\n",
       "                                   tweets_cleaned  \n",
       "0                                          thanks  \n",
       "1                                      Absolutely  \n",
       "2                        Dear Twitter Advertisers  \n",
       "4  Meeting a lot of cool people at Twitter today!  \n",
       "5         Entering Twitter HQ – let that sink in!  "
      ]
     },
     "execution_count": 8,
     "metadata": {},
     "output_type": "execute_result"
    }
   ],
   "source": [
    "cleaned_df = raw_df.drop('Tweets', axis = 1)\n",
    "cleaned_df.head()"
   ]
  },
  {
   "cell_type": "code",
   "execution_count": 9,
   "metadata": {},
   "outputs": [],
   "source": [
    "final_df = cleaned_df.reset_index(inplace=False)"
   ]
  },
  {
   "cell_type": "code",
   "execution_count": 10,
   "metadata": {},
   "outputs": [
    {
     "data": {
      "text/html": [
       "<div>\n",
       "<style scoped>\n",
       "    .dataframe tbody tr th:only-of-type {\n",
       "        vertical-align: middle;\n",
       "    }\n",
       "\n",
       "    .dataframe tbody tr th {\n",
       "        vertical-align: top;\n",
       "    }\n",
       "\n",
       "    .dataframe thead th {\n",
       "        text-align: right;\n",
       "    }\n",
       "</style>\n",
       "<table border=\"1\" class=\"dataframe\">\n",
       "  <thead>\n",
       "    <tr style=\"text-align: right;\">\n",
       "      <th></th>\n",
       "      <th>Retweets</th>\n",
       "      <th>Likes</th>\n",
       "      <th>Date</th>\n",
       "      <th>tweets_cleaned</th>\n",
       "    </tr>\n",
       "  </thead>\n",
       "  <tbody>\n",
       "    <tr>\n",
       "      <th>0</th>\n",
       "      <td>209</td>\n",
       "      <td>7021</td>\n",
       "      <td>2022-10-27 16:17:39</td>\n",
       "      <td>thanks</td>\n",
       "    </tr>\n",
       "    <tr>\n",
       "      <th>1</th>\n",
       "      <td>755</td>\n",
       "      <td>26737</td>\n",
       "      <td>2022-10-27 13:19:25</td>\n",
       "      <td>Absolutely</td>\n",
       "    </tr>\n",
       "    <tr>\n",
       "      <th>2</th>\n",
       "      <td>55927</td>\n",
       "      <td>356623</td>\n",
       "      <td>2022-10-27 13:08:00</td>\n",
       "      <td>Dear Twitter Advertisers</td>\n",
       "    </tr>\n",
       "    <tr>\n",
       "      <th>3</th>\n",
       "      <td>9366</td>\n",
       "      <td>195546</td>\n",
       "      <td>2022-10-26 21:39:32</td>\n",
       "      <td>Meeting a lot of cool people at Twitter today!</td>\n",
       "    </tr>\n",
       "    <tr>\n",
       "      <th>4</th>\n",
       "      <td>145520</td>\n",
       "      <td>1043592</td>\n",
       "      <td>2022-10-26 18:45:58</td>\n",
       "      <td>Entering Twitter HQ – let that sink in!</td>\n",
       "    </tr>\n",
       "  </tbody>\n",
       "</table>\n",
       "</div>"
      ],
      "text/plain": [
       "   Retweets    Likes                 Date  \\\n",
       "0       209     7021  2022-10-27 16:17:39   \n",
       "1       755    26737  2022-10-27 13:19:25   \n",
       "2     55927   356623  2022-10-27 13:08:00   \n",
       "3      9366   195546  2022-10-26 21:39:32   \n",
       "4    145520  1043592  2022-10-26 18:45:58   \n",
       "\n",
       "                                   tweets_cleaned  \n",
       "0                                          thanks  \n",
       "1                                      Absolutely  \n",
       "2                        Dear Twitter Advertisers  \n",
       "3  Meeting a lot of cool people at Twitter today!  \n",
       "4         Entering Twitter HQ – let that sink in!  "
      ]
     },
     "execution_count": 10,
     "metadata": {},
     "output_type": "execute_result"
    }
   ],
   "source": [
    "final_df = final_df.drop('index',axis = 1)\n",
    "final_df.head()"
   ]
  },
  {
   "cell_type": "markdown",
   "metadata": {},
   "source": [
    "### Sentiment analysis with VADER"
   ]
  },
  {
   "cell_type": "code",
   "execution_count": 11,
   "metadata": {},
   "outputs": [],
   "source": [
    "#pip install vaderSentiment\n",
    "from vaderSentiment.vaderSentiment import SentimentIntensityAnalyzer"
   ]
  },
  {
   "cell_type": "code",
   "execution_count": 12,
   "metadata": {},
   "outputs": [],
   "source": [
    "analyser = SentimentIntensityAnalyzer()"
   ]
  },
  {
   "cell_type": "code",
   "execution_count": 13,
   "metadata": {},
   "outputs": [],
   "source": [
    "## Function that measuers sentiment based on polarity scores\n",
    "## The compound variable is used below to measue the sentiment as Positive, Negative and Neutral\n",
    "def sentiment_analyser(twt):\n",
    "    sent_dict = analyser.polarity_scores(twt)\n",
    "    if sent_dict['compound'] >= 0.05 :\n",
    "        return \"Positive\"\n",
    " \n",
    "    elif sent_dict['compound'] <= - 0.05 :\n",
    "        return \"Negative\"\n",
    " \n",
    "    else :\n",
    "        return \"Neutral\""
   ]
  },
  {
   "cell_type": "code",
   "execution_count": 14,
   "metadata": {},
   "outputs": [],
   "source": [
    "final_df['Sentiment'] = final_df['tweets_cleaned'].apply(sentiment_analyser)"
   ]
  },
  {
   "cell_type": "code",
   "execution_count": 15,
   "metadata": {},
   "outputs": [
    {
     "data": {
      "text/html": [
       "<div>\n",
       "<style scoped>\n",
       "    .dataframe tbody tr th:only-of-type {\n",
       "        vertical-align: middle;\n",
       "    }\n",
       "\n",
       "    .dataframe tbody tr th {\n",
       "        vertical-align: top;\n",
       "    }\n",
       "\n",
       "    .dataframe thead th {\n",
       "        text-align: right;\n",
       "    }\n",
       "</style>\n",
       "<table border=\"1\" class=\"dataframe\">\n",
       "  <thead>\n",
       "    <tr style=\"text-align: right;\">\n",
       "      <th></th>\n",
       "      <th>Retweets</th>\n",
       "      <th>Likes</th>\n",
       "      <th>Date</th>\n",
       "      <th>tweets_cleaned</th>\n",
       "      <th>Sentiment</th>\n",
       "    </tr>\n",
       "  </thead>\n",
       "  <tbody>\n",
       "    <tr>\n",
       "      <th>0</th>\n",
       "      <td>209</td>\n",
       "      <td>7021</td>\n",
       "      <td>2022-10-27 16:17:39</td>\n",
       "      <td>thanks</td>\n",
       "      <td>Positive</td>\n",
       "    </tr>\n",
       "    <tr>\n",
       "      <th>1</th>\n",
       "      <td>755</td>\n",
       "      <td>26737</td>\n",
       "      <td>2022-10-27 13:19:25</td>\n",
       "      <td>Absolutely</td>\n",
       "      <td>Neutral</td>\n",
       "    </tr>\n",
       "    <tr>\n",
       "      <th>2</th>\n",
       "      <td>55927</td>\n",
       "      <td>356623</td>\n",
       "      <td>2022-10-27 13:08:00</td>\n",
       "      <td>Dear Twitter Advertisers</td>\n",
       "      <td>Positive</td>\n",
       "    </tr>\n",
       "    <tr>\n",
       "      <th>3</th>\n",
       "      <td>9366</td>\n",
       "      <td>195546</td>\n",
       "      <td>2022-10-26 21:39:32</td>\n",
       "      <td>Meeting a lot of cool people at Twitter today!</td>\n",
       "      <td>Positive</td>\n",
       "    </tr>\n",
       "    <tr>\n",
       "      <th>4</th>\n",
       "      <td>145520</td>\n",
       "      <td>1043592</td>\n",
       "      <td>2022-10-26 18:45:58</td>\n",
       "      <td>Entering Twitter HQ – let that sink in!</td>\n",
       "      <td>Neutral</td>\n",
       "    </tr>\n",
       "  </tbody>\n",
       "</table>\n",
       "</div>"
      ],
      "text/plain": [
       "   Retweets    Likes                 Date  \\\n",
       "0       209     7021  2022-10-27 16:17:39   \n",
       "1       755    26737  2022-10-27 13:19:25   \n",
       "2     55927   356623  2022-10-27 13:08:00   \n",
       "3      9366   195546  2022-10-26 21:39:32   \n",
       "4    145520  1043592  2022-10-26 18:45:58   \n",
       "\n",
       "                                   tweets_cleaned Sentiment  \n",
       "0                                          thanks  Positive  \n",
       "1                                      Absolutely   Neutral  \n",
       "2                        Dear Twitter Advertisers  Positive  \n",
       "3  Meeting a lot of cool people at Twitter today!  Positive  \n",
       "4         Entering Twitter HQ – let that sink in!   Neutral  "
      ]
     },
     "execution_count": 15,
     "metadata": {},
     "output_type": "execute_result"
    }
   ],
   "source": [
    "final_df.head()"
   ]
  },
  {
   "cell_type": "markdown",
   "metadata": {},
   "source": [
    "### Lets see how the tweets split in terms of sentiment"
   ]
  },
  {
   "cell_type": "code",
   "execution_count": 21,
   "metadata": {},
   "outputs": [
    {
     "data": {
      "image/png": "[encoded data removed]",
      "text/plain": [
       "<Figure size 1080x504 with 1 Axes>"
      ]
     },
     "metadata": {},
     "output_type": "display_data"
    }
   ],
   "source": [
    "plt.figure(figsize = (15, 7))\n",
    "\n",
    "data = final_df['Sentiment'].value_counts()\n",
    "colors = sns.color_palette(\"Greens\")\n",
    "labels = ['Positive', 'Neutral', 'Negative']\n",
    "\n",
    "plt.pie(data, labels = labels, autopct = '%.0f%%', colors = colors)\n",
    "plt.title('Sentiment Breakdown of Elons Tweets')\n",
    "\n",
    "plt.tight_layout()"
   ]
  },
  {
   "cell_type": "code",
   "execution_count": 32,
   "metadata": {},
   "outputs": [
    {
     "data": {
      "text/plain": [
       "<AxesSubplot:xlabel='Sentiment', ylabel='Retweets'>"
      ]
     },
     "execution_count": 32,
     "metadata": {},
     "output_type": "execute_result"
    },
    {
     "data": {
      "image/png": "[encoded data removed]",
      "text/plain": [
       "<Figure size 432x288 with 1 Axes>"
      ]
     },
     "metadata": {},
     "output_type": "display_data"
    }
   ],
   "source": [
    "sns.barplot(data=final_df.groupby(['Sentiment'], as_index=False)['Retweets'].sum(),\n",
    "            x='Sentiment', y='Retweets')"
   ]
  },
  {
   "cell_type": "code",
   "execution_count": 33,
   "metadata": {},
   "outputs": [
    {
     "data": {
      "image/png": "[encoded data removed]",
      "text/plain": [
       "<Figure size 576x432 with 1 Axes>"
      ]
     },
     "metadata": {},
     "output_type": "display_data"
    }
   ],
   "source": [
    "# Create scatter plot\n",
    "sns.set_style('darkgrid')\n",
    "plt.figure(figsize = (8,6))\n",
    "\n",
    "plt.ylim(0, 20000)\n",
    "sns.boxplot(data=final_df, x='Sentiment', y='Retweets', palette = 'hls')\n",
    "#, hue = 'Sentiment', palette = 'gist_earth').set(xlim=(-1,1))\n",
    "plt.title('Box Plot')\n",
    "plt.xlabel('Sentiment')\n",
    "plt.ylabel('No. of Retweets')\n",
    "\n",
    "plt.tight_layout()"
   ]
  },
  {
   "cell_type": "code",
   "execution_count": 40,
   "metadata": {},
   "outputs": [
    {
     "data": {
      "image/png": "[encoded data removed]",
      "text/plain": [
       "<Figure size 576x432 with 1 Axes>"
      ]
     },
     "metadata": {},
     "output_type": "display_data"
    }
   ],
   "source": [
    "# Create scatter plot\n",
    "sns.set_style('darkgrid')\n",
    "plt.figure(figsize = (8,6))\n",
    "\n",
    "plt.ylim(1000, 400000)\n",
    "sns.boxplot(data=final_df, x='Sentiment', y='Likes', palette = 'hls')\n",
    "#, hue = 'Sentiment', palette = 'gist_earth').set(xlim=(-1,1))\n",
    "plt.title('Box Plot')\n",
    "plt.xlabel('Sentiment')\n",
    "plt.ylabel('No. of Likes')\n",
    "\n",
    "plt.tight_layout()"
   ]
  },
  {
   "cell_type": "markdown",
   "metadata": {},
   "source": [
    "### Sentiment Analysis with Text Blob"
   ]
  },
  {
   "cell_type": "markdown",
   "metadata": {},
   "source": [
    "##### Data Prep"
   ]
  },
  {
   "cell_type": "code",
   "execution_count": 45,
   "metadata": {},
   "outputs": [
    {
     "data": {
      "text/html": [
       "<div>\n",
       "<style scoped>\n",
       "    .dataframe tbody tr th:only-of-type {\n",
       "        vertical-align: middle;\n",
       "    }\n",
       "\n",
       "    .dataframe tbody tr th {\n",
       "        vertical-align: top;\n",
       "    }\n",
       "\n",
       "    .dataframe thead th {\n",
       "        text-align: right;\n",
       "    }\n",
       "</style>\n",
       "<table border=\"1\" class=\"dataframe\">\n",
       "  <thead>\n",
       "    <tr style=\"text-align: right;\">\n",
       "      <th></th>\n",
       "      <th>Retweets</th>\n",
       "      <th>Likes</th>\n",
       "      <th>Date</th>\n",
       "      <th>tweets_cleaned</th>\n",
       "    </tr>\n",
       "  </thead>\n",
       "  <tbody>\n",
       "    <tr>\n",
       "      <th>0</th>\n",
       "      <td>209</td>\n",
       "      <td>7021</td>\n",
       "      <td>2022-10-27 16:17:39</td>\n",
       "      <td>thanks</td>\n",
       "    </tr>\n",
       "    <tr>\n",
       "      <th>1</th>\n",
       "      <td>755</td>\n",
       "      <td>26737</td>\n",
       "      <td>2022-10-27 13:19:25</td>\n",
       "      <td>Absolutely</td>\n",
       "    </tr>\n",
       "    <tr>\n",
       "      <th>2</th>\n",
       "      <td>55927</td>\n",
       "      <td>356623</td>\n",
       "      <td>2022-10-27 13:08:00</td>\n",
       "      <td>Dear Twitter Advertisers</td>\n",
       "    </tr>\n",
       "    <tr>\n",
       "      <th>4</th>\n",
       "      <td>9366</td>\n",
       "      <td>195546</td>\n",
       "      <td>2022-10-26 21:39:32</td>\n",
       "      <td>Meeting a lot of cool people at Twitter today!</td>\n",
       "    </tr>\n",
       "    <tr>\n",
       "      <th>5</th>\n",
       "      <td>145520</td>\n",
       "      <td>1043592</td>\n",
       "      <td>2022-10-26 18:45:58</td>\n",
       "      <td>Entering Twitter HQ – let that sink in!</td>\n",
       "    </tr>\n",
       "  </tbody>\n",
       "</table>\n",
       "</div>"
      ],
      "text/plain": [
       "   Retweets    Likes                 Date  \\\n",
       "0       209     7021  2022-10-27 16:17:39   \n",
       "1       755    26737  2022-10-27 13:19:25   \n",
       "2     55927   356623  2022-10-27 13:08:00   \n",
       "4      9366   195546  2022-10-26 21:39:32   \n",
       "5    145520  1043592  2022-10-26 18:45:58   \n",
       "\n",
       "                                   tweets_cleaned  \n",
       "0                                          thanks  \n",
       "1                                      Absolutely  \n",
       "2                        Dear Twitter Advertisers  \n",
       "4  Meeting a lot of cool people at Twitter today!  \n",
       "5         Entering Twitter HQ – let that sink in!  "
      ]
     },
     "execution_count": 45,
     "metadata": {},
     "output_type": "execute_result"
    }
   ],
   "source": [
    "## Data Prep\n",
    "cleaned_df.head()"
   ]
  },
  {
   "cell_type": "code",
   "execution_count": 46,
   "metadata": {},
   "outputs": [
    {
     "data": {
      "text/html": [
       "<div>\n",
       "<style scoped>\n",
       "    .dataframe tbody tr th:only-of-type {\n",
       "        vertical-align: middle;\n",
       "    }\n",
       "\n",
       "    .dataframe tbody tr th {\n",
       "        vertical-align: top;\n",
       "    }\n",
       "\n",
       "    .dataframe thead th {\n",
       "        text-align: right;\n",
       "    }\n",
       "</style>\n",
       "<table border=\"1\" class=\"dataframe\">\n",
       "  <thead>\n",
       "    <tr style=\"text-align: right;\">\n",
       "      <th></th>\n",
       "      <th>index</th>\n",
       "      <th>Retweets</th>\n",
       "      <th>Likes</th>\n",
       "      <th>Date</th>\n",
       "      <th>tweets_cleaned</th>\n",
       "    </tr>\n",
       "  </thead>\n",
       "  <tbody>\n",
       "    <tr>\n",
       "      <th>0</th>\n",
       "      <td>0</td>\n",
       "      <td>209</td>\n",
       "      <td>7021</td>\n",
       "      <td>2022-10-27 16:17:39</td>\n",
       "      <td>thanks</td>\n",
       "    </tr>\n",
       "    <tr>\n",
       "      <th>1</th>\n",
       "      <td>1</td>\n",
       "      <td>755</td>\n",
       "      <td>26737</td>\n",
       "      <td>2022-10-27 13:19:25</td>\n",
       "      <td>Absolutely</td>\n",
       "    </tr>\n",
       "    <tr>\n",
       "      <th>2</th>\n",
       "      <td>2</td>\n",
       "      <td>55927</td>\n",
       "      <td>356623</td>\n",
       "      <td>2022-10-27 13:08:00</td>\n",
       "      <td>Dear Twitter Advertisers</td>\n",
       "    </tr>\n",
       "    <tr>\n",
       "      <th>3</th>\n",
       "      <td>4</td>\n",
       "      <td>9366</td>\n",
       "      <td>195546</td>\n",
       "      <td>2022-10-26 21:39:32</td>\n",
       "      <td>Meeting a lot of cool people at Twitter today!</td>\n",
       "    </tr>\n",
       "    <tr>\n",
       "      <th>4</th>\n",
       "      <td>5</td>\n",
       "      <td>145520</td>\n",
       "      <td>1043592</td>\n",
       "      <td>2022-10-26 18:45:58</td>\n",
       "      <td>Entering Twitter HQ – let that sink in!</td>\n",
       "    </tr>\n",
       "  </tbody>\n",
       "</table>\n",
       "</div>"
      ],
      "text/plain": [
       "   index  Retweets    Likes                 Date  \\\n",
       "0      0       209     7021  2022-10-27 16:17:39   \n",
       "1      1       755    26737  2022-10-27 13:19:25   \n",
       "2      2     55927   356623  2022-10-27 13:08:00   \n",
       "3      4      9366   195546  2022-10-26 21:39:32   \n",
       "4      5    145520  1043592  2022-10-26 18:45:58   \n",
       "\n",
       "                                   tweets_cleaned  \n",
       "0                                          thanks  \n",
       "1                                      Absolutely  \n",
       "2                        Dear Twitter Advertisers  \n",
       "3  Meeting a lot of cool people at Twitter today!  \n",
       "4         Entering Twitter HQ – let that sink in!  "
      ]
     },
     "execution_count": 46,
     "metadata": {},
     "output_type": "execute_result"
    }
   ],
   "source": [
    "final_df = cleaned_df.reset_index(inplace=False)\n",
    "final_df.head()"
   ]
  },
  {
   "cell_type": "code",
   "execution_count": 47,
   "metadata": {},
   "outputs": [
    {
     "data": {
      "text/html": [
       "<div>\n",
       "<style scoped>\n",
       "    .dataframe tbody tr th:only-of-type {\n",
       "        vertical-align: middle;\n",
       "    }\n",
       "\n",
       "    .dataframe tbody tr th {\n",
       "        vertical-align: top;\n",
       "    }\n",
       "\n",
       "    .dataframe thead th {\n",
       "        text-align: right;\n",
       "    }\n",
       "</style>\n",
       "<table border=\"1\" class=\"dataframe\">\n",
       "  <thead>\n",
       "    <tr style=\"text-align: right;\">\n",
       "      <th></th>\n",
       "      <th>Retweets</th>\n",
       "      <th>Likes</th>\n",
       "      <th>Date</th>\n",
       "      <th>tweets_cleaned</th>\n",
       "    </tr>\n",
       "  </thead>\n",
       "  <tbody>\n",
       "    <tr>\n",
       "      <th>0</th>\n",
       "      <td>209</td>\n",
       "      <td>7021</td>\n",
       "      <td>2022-10-27 16:17:39</td>\n",
       "      <td>thanks</td>\n",
       "    </tr>\n",
       "    <tr>\n",
       "      <th>1</th>\n",
       "      <td>755</td>\n",
       "      <td>26737</td>\n",
       "      <td>2022-10-27 13:19:25</td>\n",
       "      <td>Absolutely</td>\n",
       "    </tr>\n",
       "    <tr>\n",
       "      <th>2</th>\n",
       "      <td>55927</td>\n",
       "      <td>356623</td>\n",
       "      <td>2022-10-27 13:08:00</td>\n",
       "      <td>Dear Twitter Advertisers</td>\n",
       "    </tr>\n",
       "    <tr>\n",
       "      <th>3</th>\n",
       "      <td>9366</td>\n",
       "      <td>195546</td>\n",
       "      <td>2022-10-26 21:39:32</td>\n",
       "      <td>Meeting a lot of cool people at Twitter today!</td>\n",
       "    </tr>\n",
       "    <tr>\n",
       "      <th>4</th>\n",
       "      <td>145520</td>\n",
       "      <td>1043592</td>\n",
       "      <td>2022-10-26 18:45:58</td>\n",
       "      <td>Entering Twitter HQ – let that sink in!</td>\n",
       "    </tr>\n",
       "  </tbody>\n",
       "</table>\n",
       "</div>"
      ],
      "text/plain": [
       "   Retweets    Likes                 Date  \\\n",
       "0       209     7021  2022-10-27 16:17:39   \n",
       "1       755    26737  2022-10-27 13:19:25   \n",
       "2     55927   356623  2022-10-27 13:08:00   \n",
       "3      9366   195546  2022-10-26 21:39:32   \n",
       "4    145520  1043592  2022-10-26 18:45:58   \n",
       "\n",
       "                                   tweets_cleaned  \n",
       "0                                          thanks  \n",
       "1                                      Absolutely  \n",
       "2                        Dear Twitter Advertisers  \n",
       "3  Meeting a lot of cool people at Twitter today!  \n",
       "4         Entering Twitter HQ – let that sink in!  "
      ]
     },
     "execution_count": 47,
     "metadata": {},
     "output_type": "execute_result"
    }
   ],
   "source": [
    "final_df = final_df.drop('index',axis = 1)\n",
    "final_df.head()"
   ]
  },
  {
   "cell_type": "markdown",
   "metadata": {},
   "source": [
    "### TextBlob"
   ]
  },
  {
   "cell_type": "code",
   "execution_count": 41,
   "metadata": {},
   "outputs": [],
   "source": [
    "from textblob import TextBlob"
   ]
  },
  {
   "cell_type": "code",
   "execution_count": 42,
   "metadata": {},
   "outputs": [],
   "source": [
    "#Create a function to get the subjectivity\n",
    "def tweet_subjectivity(twt):\n",
    "  return TextBlob(twt).sentiment.subjectivity"
   ]
  },
  {
   "cell_type": "code",
   "execution_count": 43,
   "metadata": {},
   "outputs": [],
   "source": [
    "#Create a function to get the polarity\n",
    "def tweet_polarity(twt):\n",
    "    return TextBlob(twt).sentiment.polarity"
   ]
  },
  {
   "cell_type": "code",
   "execution_count": 44,
   "metadata": {},
   "outputs": [],
   "source": [
    "## find sentiment based on polarity\n",
    "def sentiment(polarity):\n",
    "    if polarity<0:\n",
    "        return 'Negative'\n",
    "    elif polarity>0:\n",
    "        return 'Positive'\n",
    "    else:\n",
    "        return 'Neutral'"
   ]
  },
  {
   "cell_type": "code",
   "execution_count": 49,
   "metadata": {},
   "outputs": [],
   "source": [
    "final_df['Subjectivity'] = final_df['tweets_cleaned'].apply(tweet_subjectivity)\n",
    "final_df['Polarity'] = final_df['tweets_cleaned'].apply(tweet_polarity)"
   ]
  },
  {
   "cell_type": "code",
   "execution_count": 51,
   "metadata": {},
   "outputs": [],
   "source": [
    "def senti_sesh(pol):\n",
    "  if pol < 0:\n",
    "    return 'Negative'\n",
    "  elif pol > 0:\n",
    "    return 'Positive'\n",
    "  else:\n",
    "    return 'Neutral'"
   ]
  },
  {
   "cell_type": "code",
   "execution_count": 52,
   "metadata": {},
   "outputs": [],
   "source": [
    "# get 'Sentiment'\n",
    "final_df['Sentiment'] = final_df['Polarity'].apply(senti_sesh)"
   ]
  },
  {
   "cell_type": "code",
   "execution_count": 53,
   "metadata": {},
   "outputs": [
    {
     "data": {
      "text/html": [
       "<div>\n",
       "<style scoped>\n",
       "    .dataframe tbody tr th:only-of-type {\n",
       "        vertical-align: middle;\n",
       "    }\n",
       "\n",
       "    .dataframe tbody tr th {\n",
       "        vertical-align: top;\n",
       "    }\n",
       "\n",
       "    .dataframe thead th {\n",
       "        text-align: right;\n",
       "    }\n",
       "</style>\n",
       "<table border=\"1\" class=\"dataframe\">\n",
       "  <thead>\n",
       "    <tr style=\"text-align: right;\">\n",
       "      <th></th>\n",
       "      <th>Retweets</th>\n",
       "      <th>Likes</th>\n",
       "      <th>Date</th>\n",
       "      <th>tweets_cleaned</th>\n",
       "      <th>Subjectivity</th>\n",
       "      <th>Polarity</th>\n",
       "      <th>Sentiment</th>\n",
       "    </tr>\n",
       "  </thead>\n",
       "  <tbody>\n",
       "    <tr>\n",
       "      <th>0</th>\n",
       "      <td>209</td>\n",
       "      <td>7021</td>\n",
       "      <td>2022-10-27 16:17:39</td>\n",
       "      <td>thanks</td>\n",
       "      <td>0.20</td>\n",
       "      <td>0.2000</td>\n",
       "      <td>Positive</td>\n",
       "    </tr>\n",
       "    <tr>\n",
       "      <th>1</th>\n",
       "      <td>755</td>\n",
       "      <td>26737</td>\n",
       "      <td>2022-10-27 13:19:25</td>\n",
       "      <td>Absolutely</td>\n",
       "      <td>0.90</td>\n",
       "      <td>0.2000</td>\n",
       "      <td>Positive</td>\n",
       "    </tr>\n",
       "    <tr>\n",
       "      <th>2</th>\n",
       "      <td>55927</td>\n",
       "      <td>356623</td>\n",
       "      <td>2022-10-27 13:08:00</td>\n",
       "      <td>Dear Twitter Advertisers</td>\n",
       "      <td>0.00</td>\n",
       "      <td>0.0000</td>\n",
       "      <td>Neutral</td>\n",
       "    </tr>\n",
       "    <tr>\n",
       "      <th>3</th>\n",
       "      <td>9366</td>\n",
       "      <td>195546</td>\n",
       "      <td>2022-10-26 21:39:32</td>\n",
       "      <td>Meeting a lot of cool people at Twitter today!</td>\n",
       "      <td>0.65</td>\n",
       "      <td>0.4375</td>\n",
       "      <td>Positive</td>\n",
       "    </tr>\n",
       "    <tr>\n",
       "      <th>4</th>\n",
       "      <td>145520</td>\n",
       "      <td>1043592</td>\n",
       "      <td>2022-10-26 18:45:58</td>\n",
       "      <td>Entering Twitter HQ – let that sink in!</td>\n",
       "      <td>0.00</td>\n",
       "      <td>0.0000</td>\n",
       "      <td>Neutral</td>\n",
       "    </tr>\n",
       "  </tbody>\n",
       "</table>\n",
       "</div>"
      ],
      "text/plain": [
       "   Retweets    Likes                 Date  \\\n",
       "0       209     7021  2022-10-27 16:17:39   \n",
       "1       755    26737  2022-10-27 13:19:25   \n",
       "2     55927   356623  2022-10-27 13:08:00   \n",
       "3      9366   195546  2022-10-26 21:39:32   \n",
       "4    145520  1043592  2022-10-26 18:45:58   \n",
       "\n",
       "                                   tweets_cleaned  Subjectivity  Polarity  \\\n",
       "0                                          thanks          0.20    0.2000   \n",
       "1                                      Absolutely          0.90    0.2000   \n",
       "2                        Dear Twitter Advertisers          0.00    0.0000   \n",
       "3  Meeting a lot of cool people at Twitter today!          0.65    0.4375   \n",
       "4         Entering Twitter HQ – let that sink in!          0.00    0.0000   \n",
       "\n",
       "  Sentiment  \n",
       "0  Positive  \n",
       "1  Positive  \n",
       "2   Neutral  \n",
       "3  Positive  \n",
       "4   Neutral  "
      ]
     },
     "execution_count": 53,
     "metadata": {},
     "output_type": "execute_result"
    }
   ],
   "source": [
    "final_df.head()"
   ]
  },
  {
   "cell_type": "code",
   "execution_count": 59,
   "metadata": {},
   "outputs": [
    {
     "data": {
      "image/png": "[encoded data removed]",
      "text/plain": [
       "<Figure size 720x432 with 1 Axes>"
      ]
     },
     "metadata": {},
     "output_type": "display_data"
    }
   ],
   "source": [
    "final_df['Month'] = pd.DatetimeIndex(final_df['Date']).month\n",
    "# Likes*sentiment over time\n",
    "plt.figure(figsize = (10, 6))\n",
    "months = final_df['Month'].unique()\n",
    "sns.lineplot(x = 'Month', y = 'Likes', hue = 'Sentiment', ci = None, data = final_df, palette = 'hls')\n",
    "plt.title('No of likes vs sentiment and month')\n",
    "plt.xlabel('Month')\n",
    "#set axis\n",
    "plt.xticks(ticks = [mont for mont in months])\n",
    "plt.tight_layout()"
   ]
  },
  {
   "cell_type": "code",
   "execution_count": 60,
   "metadata": {},
   "outputs": [
    {
     "data": {
      "image/png": "[encoded data removed]",
      "text/plain": [
       "<Figure size 1152x432 with 2 Axes>"
      ]
     },
     "metadata": {},
     "output_type": "display_data"
    }
   ],
   "source": [
    "plt.figure(figsize=(16, 6))\n",
    "\n",
    "heatmap = sns.heatmap(final_df.corr(), vmin=-1, vmax=1, annot=True)\n",
    "heatmap.set_title('Correlation Heatmap')\n",
    "\n",
    "plt.tight_layout()\n"
   ]
  },
  {
   "cell_type": "code",
   "execution_count": null,
   "metadata": {},
   "outputs": [],
   "source": []
  }
 ],
 "metadata": {
  "kernelspec": {
   "display_name": "Python 3.9.7 ('base')",
   "language": "python",
   "name": "python3"
  },
  "language_info": {
   "codemirror_mode": {
    "name": "ipython",
    "version": 3
   },
   "file_extension": ".py",
   "mimetype": "text/x-python",
   "name": "python",
   "nbconvert_exporter": "python",
   "pygments_lexer": "ipython3",
   "version": "3.9.7"
  },
  "orig_nbformat": 4,
  "vscode": {
   "interpreter": {
    "hash": "131f3d18372c23bc9956e159b8761a89791000b12ee129af51759eac7b6e0517"
   }
  }
 },
 "nbformat": 4,
 "nbformat_minor": 2
}
